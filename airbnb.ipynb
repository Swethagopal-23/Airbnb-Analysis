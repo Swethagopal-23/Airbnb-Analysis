{
 "cells": [
  {
   "cell_type": "code",
   "execution_count": 1,
   "metadata": {},
   "outputs": [],
   "source": [
    "# Importing libraries\n",
    "import os\n",
    "import pandas as pd\n",
    "import json\n",
    "from sqlalchemy import create_engine"
   ]
  },
  {
   "cell_type": "code",
   "execution_count": null,
   "metadata": {},
   "outputs": [],
   "source": [
    "# Reading the data\n",
    "data=open('sample_airbnb.json','r')\n",
    "airbnb=json.load(data)\n",
    "airbnb"
   ]
  },
  {
   "cell_type": "code",
   "execution_count": 4,
   "metadata": {},
   "outputs": [
    {
     "name": "stdout",
     "output_type": "stream",
     "text": [
      "Missing Values per Column:\n",
      " id                 0\n",
      "listing_url        0\n",
      "name               0\n",
      "description        0\n",
      "neighborhood       0\n",
      "transit            0\n",
      "street             0\n",
      "suburb             0\n",
      "government_area    0\n",
      "market             0\n",
      "country            0\n",
      "country_code       0\n",
      "coordinates        0\n",
      "dtype: int64\n",
      "Number of duplicate rows: 0\n"
     ]
    }
   ],
   "source": [
    "# Function to extract and transform Hotels information\n",
    "def extract_hotels_info(airbnb):\n",
    "    hotels = []\n",
    "    for i in airbnb:\n",
    "        hotel_data = {\n",
    "            'id': i['_id'],\n",
    "            'listing_url': i['listing_url'],\n",
    "            'name': i['name'],\n",
    "            'description': i.get('description'),\n",
    "            'neighborhood': i.get('neighborhood_overview'),\n",
    "            'transit': i.get('transit'),\n",
    "            'street': i['address'].get('street'),\n",
    "            'suburb': i['address'].get('suburb'),\n",
    "            'government_area': i['address'].get('government_area'),\n",
    "            'market': i['address'].get('market'),\n",
    "            'country': i['address'].get('country'),\n",
    "            'country_code': i['address'].get('country_code'),\n",
    "            # Formatting the coordinates as 'latitude, longitude'\n",
    "            'coordinates': ', '.join(map(str, i['address'].get('location', {}).get('coordinates', [0.0, 0.0])))\n",
    "        }\n",
    "        hotels.append(hotel_data)\n",
    "    return pd.DataFrame(hotels)\n",
    "\n",
    "hotels_df = extract_hotels_info(airbnb)\n",
    "\n",
    "# Checking for Missing Values\n",
    "missing_values = hotels_df.isnull().sum()\n",
    "print(\"Missing Values per Column:\\n\", missing_values)\n",
    "\n",
    "# Checking for Duplicates\n",
    "duplicates = hotels_df.duplicated().sum()\n",
    "print(f\"Number of duplicate rows: {duplicates}\")"
   ]
  },
  {
   "cell_type": "code",
   "execution_count": 3,
   "metadata": {},
   "outputs": [
    {
     "name": "stdout",
     "output_type": "stream",
     "text": [
      "Missing Values per Column:\n",
      " price                  0\n",
      "weekly_price           0\n",
      "monthly_price          0\n",
      "security_deposit       0\n",
      "cleaning_fee           0\n",
      "cancellation_policy    0\n",
      "dtype: int64\n",
      "Number of duplicate rows: 1136\n",
      "Duplicates dropped.\n"
     ]
    }
   ],
   "source": [
    "# Function to extract pricing information\n",
    "def extract_pricing_info(airbnb):\n",
    "    price =[]\n",
    "    for i in airbnb:\n",
    "        price_data ={ \n",
    "            'price': int(i.get('price', 0) or 0),  \n",
    "            'weekly_price': int(i.get('weekly_price', 0) or 0), \n",
    "            'monthly_price': int(i.get('monthly_price', 0) or 0), \n",
    "            'security_deposit': int(i.get('security_deposit', 0) or 0),  \n",
    "            'cleaning_fee': int(i.get('cleaning_fee', 0) or 0),  \n",
    "            'cancellation_policy': i.get('cancellation_policy', 'N/A')  \n",
    "        }\n",
    "        price.append(price_data)\n",
    "    return pd.DataFrame(price) \n",
    "\n",
    "price_df = extract_pricing_info(airbnb)\n",
    "\n",
    "# Checking for Missing Values\n",
    "missing_values = price_df.isnull().sum() \n",
    "print(\"Missing Values per Column:\\n\", missing_values)\n",
    "\n",
    "# Checking for Duplicates\n",
    "duplicates = price_df.duplicated().sum()\n",
    "print(f\"Number of duplicate rows: {duplicates}\")\n",
    "\n",
    "# Dropping duplicates\n",
    "if duplicates > 0:\n",
    "    price_df = price_df.drop_duplicates()\n",
    "    print(\"Duplicates dropped.\")\n",
    "else:\n",
    "    print(\"No duplicates found.\")\n"
   ]
  },
  {
   "cell_type": "code",
   "execution_count": 5,
   "metadata": {},
   "outputs": [
    {
     "name": "stdout",
     "output_type": "stream",
     "text": [
      "Missing Values per Column:\n",
      " id                 0\n",
      "images             0\n",
      "property_type      0\n",
      "room_type          0\n",
      "bed_type           0\n",
      "min_nights         0\n",
      "max_nights         0\n",
      "accommodates       0\n",
      "bedrooms           0\n",
      "beds               0\n",
      "bathrooms          0\n",
      "amenities          0\n",
      "guests_included    0\n",
      "dtype: int64\n",
      "Number of duplicate rows: 0\n"
     ]
    }
   ],
   "source": [
    "# Function to extract and transform Property information\n",
    "def extract_property_info(airbnb):\n",
    "    rooms = []\n",
    "    for i in airbnb:\n",
    "        room_data = {\n",
    "            'id': i['_id'],\n",
    "            'images': i['images']['picture_url'] if 'images' in i and 'picture_url' in i['images'] else '',\n",
    "            'property_type': i.get('property_type', 'N/A'),\n",
    "            'room_type': i.get('room_type', 'N/A'),\n",
    "            'bed_type': i.get('bed_type', 'N/A'),\n",
    "            'min_nights': i.get('minimum_nights', 'N/A'),\n",
    "            'max_nights': i.get('maximum_nights', 'N/A'),\n",
    "            'accommodates': int(i.get('accommodates', 0) or 0), \n",
    "            'bedrooms': int(i.get('bedrooms', 0) or 0),  \n",
    "            'beds': int(i.get('beds', 0) or 0),  \n",
    "            'bathrooms': float(i.get('bathrooms', 0.0) or 0.0),  \n",
    "            'amenities': ', '.join(i.get('amenities', [])),  \n",
    "            'guests_included': int(i.get('guests_included', 0) or 0)  \n",
    "        }\n",
    "        rooms.append(room_data)\n",
    "    return pd.DataFrame(rooms)\n",
    "\n",
    "property_df = extract_property_info(airbnb)\n",
    "\n",
    "# Checking for Missing Values\n",
    "missing_values = property_df.isnull().sum() \n",
    "print(\"Missing Values per Column:\\n\", missing_values)\n",
    "\n",
    "# Checking for Duplicates\n",
    "duplicates = property_df.duplicated().sum()\n",
    "print(f\"Number of duplicate rows: {duplicates}\")"
   ]
  },
  {
   "cell_type": "code",
   "execution_count": 6,
   "metadata": {},
   "outputs": [
    {
     "name": "stdout",
     "output_type": "stream",
     "text": [
      "Missing Values per Column:\n",
      " availability_30     0\n",
      "availability_60     0\n",
      "availability_90     0\n",
      "availability_365    0\n",
      "dtype: int64\n",
      "Number of duplicate rows: 2684\n",
      "Duplicates dropped.\n"
     ]
    }
   ],
   "source": [
    "# Function to extract the availability details\n",
    "def extract_availability_details(airbnb):\n",
    "    availability = []\n",
    "    for i in airbnb:\n",
    "        avail_data = {\n",
    "            'availability_30': int(i['availability'].get('availability_30', 0)),\n",
    "            'availability_60': int(i['availability'].get('availability_60', 0)),\n",
    "            'availability_90': int(i['availability'].get('availability_90', 0)),\n",
    "            'availability_365': int(i['availability'].get('availability_365', 0))\n",
    "        }\n",
    "        availability.append(avail_data)\n",
    "    return pd.DataFrame(availability)\n",
    "\n",
    "availability_df = extract_availability_details(airbnb)\n",
    "\n",
    "# Checking for Missing Values\n",
    "missing_values = availability_df.isnull().sum() \n",
    "print(\"Missing Values per Column:\\n\", missing_values)\n",
    "\n",
    "# Checking for Duplicates\n",
    "duplicates = availability_df.duplicated().sum()\n",
    "print(f\"Number of duplicate rows: {duplicates}\")\n",
    "\n",
    "# Dropping duplicates\n",
    "if duplicates > 0:\n",
    "    availability_df = availability_df.drop_duplicates()\n",
    "    print(\"Duplicates dropped.\")\n",
    "else:\n",
    "    print(\"No duplicates found.\")\n"
   ]
  },
  {
   "cell_type": "code",
   "execution_count": 7,
   "metadata": {},
   "outputs": [
    {
     "name": "stdout",
     "output_type": "stream",
     "text": [
      "Missing Values per Column:\n",
      " id                     0\n",
      "host_id                0\n",
      "host_url               0\n",
      "host_name              0\n",
      "host_location          0\n",
      "host_about             0\n",
      "host_neighborhood      0\n",
      "host_picture_url       0\n",
      "host_response_rate     0\n",
      "host_total_listings    0\n",
      "host_verifications     0\n",
      "dtype: int64\n",
      "Number of duplicate rows: 0\n"
     ]
    }
   ],
   "source": [
    "# Function to extract and transform Host information\n",
    "def extract_host_info(airbnb):\n",
    "    hosts = []\n",
    "    for i in airbnb:\n",
    "        host_data = {\n",
    "            'id': i['_id'],\n",
    "            'host_id': i['host']['host_id'],\n",
    "            'host_url': i['host']['host_url'],\n",
    "            'host_name': i['host']['host_name'],\n",
    "            'host_location': i['host'].get('host_location', ''),\n",
    "            'host_about': i['host'].get('host_about', ''),\n",
    "            'host_neighborhood': i['host'].get('host_neighbourhood', ''),\n",
    "            'host_picture_url': i['host'].get('host_picture_url', ''),\n",
    "            'host_response_rate': int(i['host'].get('host_response_rate', 0)),\n",
    "            'host_total_listings': int(i['host'].get('host_total_listings_count', 0)),\n",
    "            'host_verifications': ', '.join(i['host'].get('host_verifications', []))\n",
    "        }\n",
    "        hosts.append(host_data)\n",
    "    return pd.DataFrame(hosts)\n",
    "\n",
    "hosts_df = extract_host_info(airbnb)\n",
    "\n",
    "# Checking for Missing Values\n",
    "missing_values = hosts_df.isnull().sum() \n",
    "print(\"Missing Values per Column:\\n\", missing_values)\n",
    "\n",
    "# Checking for Duplicates\n",
    "duplicates = hosts_df.duplicated().sum()\n",
    "print(f\"Number of duplicate rows: {duplicates}\")\n"
   ]
  },
  {
   "cell_type": "code",
   "execution_count": 8,
   "metadata": {},
   "outputs": [
    {
     "name": "stdout",
     "output_type": "stream",
     "text": [
      "Missing Values per Column:\n",
      " id                     0\n",
      "first_review           0\n",
      "last_review            0\n",
      "num_reviews            0\n",
      "overall_score          0\n",
      "cleanliness_score      0\n",
      "checkin_score          0\n",
      "communication_score    0\n",
      "location_score         0\n",
      "value_score            0\n",
      "rating                 0\n",
      "weekly_price           0\n",
      "monthly_price          0\n",
      "dtype: int64\n",
      "Number of duplicate rows: 0\n"
     ]
    }
   ],
   "source": [
    "# Function to extract Review scores information\n",
    "def extract_reviews_scores(airbnb):\n",
    "    review_scores = []\n",
    "    for i in airbnb:\n",
    "        review_data = {\n",
    "            'id': i['_id'],\n",
    "            'first_review': i.get('first_review', 'N/A'),\n",
    "            'last_review': i.get('last_review', 'N/A'),\n",
    "            'num_reviews': int(i.get('number_of_reviews', 0)),\n",
    "            'overall_score': int(i['review_scores'].get('review_scores_accuracy', 0)),\n",
    "            'cleanliness_score': int(i['review_scores'].get('review_scores_cleanliness', 0)),\n",
    "            'checkin_score': int(i['review_scores'].get('review_scores_checkin', 0)),\n",
    "            'communication_score': int(i['review_scores'].get('review_scores_communication', 0)),\n",
    "            'location_score': int(i['review_scores'].get('review_scores_location', 0)),\n",
    "            'value_score': int(i['review_scores'].get('review_scores_value', 0)),\n",
    "            'rating': float(i['review_scores'].get('review_scores_rating', 0)),\n",
    "            'weekly_price': float(i.get('weekly_price', 0)),  \n",
    "            'monthly_price': float(i.get('monthly_price', 0))\n",
    "        }\n",
    "        review_scores.append(review_data)\n",
    "    return pd.DataFrame(review_scores)\n",
    "\n",
    "review_scores_df= extract_reviews_scores(airbnb)\n",
    "\n",
    "# Checking for Missing Values\n",
    "missing_values = review_scores_df.isnull().sum() \n",
    "print(\"Missing Values per Column:\\n\", missing_values)\n",
    "\n",
    "# Checking for Duplicates\n",
    "duplicates = review_scores_df.duplicated().sum()\n",
    "print(f\"Number of duplicate rows: {duplicates}\")\n",
    "\n"
   ]
  },
  {
   "cell_type": "code",
   "execution_count": 9,
   "metadata": {},
   "outputs": [
    {
     "name": "stdout",
     "output_type": "stream",
     "text": [
      "Missing Values per Column:\n",
      " comment_id       0\n",
      "date             0\n",
      "reviewer_id      0\n",
      "reviewer_name    0\n",
      "comments         0\n",
      "dtype: int64\n",
      "Number of duplicate rows: 0\n"
     ]
    }
   ],
   "source": [
    "# Function to extract reviews information\n",
    "def extract_review_info(airbnb):\n",
    "    reviews = []\n",
    "    for listing in airbnb:\n",
    "        r_list = listing.get('reviews', [])\n",
    "        for review in r_list:  \n",
    "            review_data = {\n",
    "                'comment_id': review.get('_id', 'Unknown'),\n",
    "                'date': review.get('date', '1970-01-01'),\n",
    "                'reviewer_id': review.get('reviewer_id', 'Unknown'),\n",
    "                'reviewer_name': review.get('reviewer_name', 'Anonymous'),\n",
    "                'comments': review.get('comments', 'No comments')\n",
    "            }\n",
    "            reviews.append(review_data)\n",
    "    return pd.DataFrame(reviews)\n",
    "\n",
    "reviews_df= extract_review_info(airbnb)\n",
    "\n",
    "# Checking for Missing Values\n",
    "missing_values = reviews_df.isnull().sum() \n",
    "print(\"Missing Values per Column:\\n\", missing_values)\n",
    "\n",
    "# Checking for Duplicates\n",
    "duplicates = reviews_df.duplicated().sum()\n",
    "print(f\"Number of duplicate rows: {duplicates}\")\n"
   ]
  },
  {
   "cell_type": "code",
   "execution_count": 10,
   "metadata": {},
   "outputs": [
    {
     "data": {
      "text/plain": [
       "1"
      ]
     },
     "execution_count": 10,
     "metadata": {},
     "output_type": "execute_result"
    }
   ],
   "source": [
    "import pymysql\n",
    "# Creating a Database\n",
    "mydb = pymysql.connect(\n",
    "    user='root',\n",
    "    password='12345678',\n",
    "    host='localhost'\n",
    ")\n",
    "mycursor = mydb.cursor()\n",
    "mycursor.execute(\"Create database airbnb\")"
   ]
  },
  {
   "cell_type": "code",
   "execution_count": 11,
   "metadata": {},
   "outputs": [
    {
     "name": "stdout",
     "output_type": "stream",
     "text": [
      "Data stored in hotels table successfully.\n",
      "Data stored in pricing table successfully.\n",
      "Data stored in properties table successfully.\n",
      "Data stored in availability table successfully.\n",
      "Data stored in hosts table successfully.\n",
      "Data stored in review_scores table successfully.\n",
      "Data stored in reviews table successfully.\n"
     ]
    }
   ],
   "source": [
    "# Function to establish database connection\n",
    "def create_db_connection(user, password, host, database):\n",
    "    connection_string = f'mysql+pymysql://{user}:{password}@{host}/{database}'\n",
    "    engine = create_engine(connection_string)\n",
    "    return engine\n",
    "\n",
    "# Function to store DataFrame in MySQL\n",
    "def store_dataframe_to_mysql(df, table_name, engine):\n",
    "    df.to_sql(name=table_name, con=engine, index=False, if_exists='replace')\n",
    "    print(f\"Data stored in {table_name} table successfully.\")\n",
    "\n",
    "# database credentials\n",
    "user = 'root'\n",
    "password = '12345678'\n",
    "host = 'localhost'  \n",
    "database = 'airbnb'\n",
    "\n",
    "# Creating database connection\n",
    "engine = create_db_connection(user, password, host, database)\n",
    "\n",
    "# Storing each DataFrame in MySQL\n",
    "store_dataframe_to_mysql(hotels_df, 'hotels', engine)\n",
    "store_dataframe_to_mysql(price_df, 'pricing', engine)\n",
    "store_dataframe_to_mysql(property_df, 'properties', engine)\n",
    "store_dataframe_to_mysql(availability_df, 'availability', engine)\n",
    "store_dataframe_to_mysql(hosts_df, 'hosts', engine)\n",
    "store_dataframe_to_mysql(review_scores_df, 'review_scores', engine)\n",
    "store_dataframe_to_mysql(reviews_df, 'reviews', engine)\n"
   ]
  }
 ],
 "metadata": {
  "kernelspec": {
   "display_name": ".venv",
   "language": "python",
   "name": "python3"
  },
  "language_info": {
   "codemirror_mode": {
    "name": "ipython",
    "version": 3
   },
   "file_extension": ".py",
   "mimetype": "text/x-python",
   "name": "python",
   "nbconvert_exporter": "python",
   "pygments_lexer": "ipython3",
   "version": "3.12.4"
  }
 },
 "nbformat": 4,
 "nbformat_minor": 2
}
